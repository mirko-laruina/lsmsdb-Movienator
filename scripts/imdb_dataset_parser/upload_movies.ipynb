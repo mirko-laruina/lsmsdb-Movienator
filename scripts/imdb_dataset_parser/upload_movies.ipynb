{
 "cells": [
  {
   "cell_type": "code",
   "execution_count": 42,
   "metadata": {
    "ExecuteTime": {
     "end_time": "2020-02-05T09:13:03.652969Z",
     "start_time": "2020-02-05T09:13:03.648646Z"
    }
   },
   "outputs": [],
   "source": [
    "import numpy as np\n",
    "import json"
   ]
  },
  {
   "cell_type": "code",
   "execution_count": 43,
   "metadata": {
    "ExecuteTime": {
     "end_time": "2020-02-05T09:13:04.825017Z",
     "start_time": "2020-02-05T09:13:03.850748Z"
    }
   },
   "outputs": [],
   "source": [
    "with open('movies.json') as json_file:\n",
    "    movies = json.load(json_file)\n",
    "    "
   ]
  },
  {
   "cell_type": "code",
   "execution_count": 44,
   "metadata": {
    "ExecuteTime": {
     "end_time": "2020-02-05T09:13:04.832056Z",
     "start_time": "2020-02-05T09:13:04.827308Z"
    }
   },
   "outputs": [
    {
     "name": "stdout",
     "output_type": "stream",
     "text": [
      "dict_keys(['tid', 'title_ita', 'title', 'originaltitle', 'runtime', 'year', 'characters', 'directors', 'genres'])\n"
     ]
    }
   ],
   "source": [
    "print(movies[0].keys())"
   ]
  },
  {
   "cell_type": "code",
   "execution_count": 45,
   "metadata": {
    "ExecuteTime": {
     "end_time": "2020-02-05T09:13:04.975938Z",
     "start_time": "2020-02-05T09:13:04.835406Z"
    }
   },
   "outputs": [],
   "source": [
    "# directors\n",
    "all_directors = {}\n",
    "for movie in movies:\n",
    "    directors = []\n",
    "    if movie['directors'] is None:\n",
    "        movie['directors'] = []\n",
    "        continue\n",
    "    for d in movie['directors']:\n",
    "        if d[0] is None:\n",
    "            continue\n",
    "        director = {'id': d[0], 'name': d[1]}\n",
    "        directors.append(director)\n",
    "        all_directors[d[0]] = d[1]\n",
    "    movie['directors'] = directors\n",
    "director_list = [{\"_id\": did, \"name\": all_directors[did]} for did in all_directors]"
   ]
  },
  {
   "cell_type": "code",
   "execution_count": 46,
   "metadata": {
    "ExecuteTime": {
     "end_time": "2020-02-05T09:13:05.181578Z",
     "start_time": "2020-02-05T09:13:04.978713Z"
    }
   },
   "outputs": [],
   "source": [
    "# characters\n",
    "all_actors = {}\n",
    "for movie in movies:\n",
    "    characters = []\n",
    "    if movie['characters'] is None:\n",
    "        movie['characters'] = []\n",
    "        continue\n",
    "    for c in movie['characters']:\n",
    "        if c[2] is None :\n",
    "            continue\n",
    "        character = {'actor_id': c[2], 'actor_name': c[1], 'name': c[0]}\n",
    "        characters.append(character)\n",
    "        all_actors[c[2]] = c[1]\n",
    "    movie['characters'] = characters\n",
    "actor_list = [{\"_id\": aid, \"name\": all_actors[aid]} for aid in all_actors]"
   ]
  },
  {
   "cell_type": "code",
   "execution_count": 47,
   "metadata": {
    "ExecuteTime": {
     "end_time": "2020-02-05T09:13:05.344989Z",
     "start_time": "2020-02-05T09:13:05.184446Z"
    }
   },
   "outputs": [],
   "source": [
    "# genres\n",
    "for movie in movies:\n",
    "    characters = []\n",
    "    if movie['genres'] is None:\n",
    "        movie['genres'] = []\n",
    "        continue\n",
    "    movie['genres'] = movie['genres'].split(',')"
   ]
  },
  {
   "cell_type": "code",
   "execution_count": 48,
   "metadata": {
    "ExecuteTime": {
     "end_time": "2020-02-05T09:13:07.616141Z",
     "start_time": "2020-02-05T09:13:07.564029Z"
    }
   },
   "outputs": [],
   "source": [
    "# renamings\n",
    "for movie in movies:\n",
    "    if \"tid\" in movie:\n",
    "        movie[\"_id\"] = movie[\"tid\"]\n",
    "        del movie[\"tid\"]\n",
    "    \n",
    "    if \"originaltitle\" in movie:\n",
    "        movie[\"original_title\"] = movie[\"originaltitle\"]\n",
    "        del movie[\"originaltitle\"]"
   ]
  },
  {
   "cell_type": "code",
   "execution_count": 49,
   "metadata": {
    "ExecuteTime": {
     "end_time": "2020-02-05T09:13:08.708246Z",
     "start_time": "2020-02-05T09:13:08.703423Z"
    }
   },
   "outputs": [
    {
     "data": {
      "text/plain": [
       "{'title_ita': 'Tolo Tolo',\n",
       " 'title': 'Tolo Tolo',\n",
       " 'runtime': '90',\n",
       " 'year': '2020',\n",
       " 'characters': [{'actor_id': 'nm11242931',\n",
       "   'actor_name': 'Nassor Said Birya',\n",
       "   'name': 'Doudou'},\n",
       "  {'actor_id': 'nm2504581', 'actor_name': 'Checco Zalone', 'name': 'Checco'},\n",
       "  {'actor_id': 'nm6658145',\n",
       "   'actor_name': 'Souleymane Sylla',\n",
       "   'name': 'Oumar'}],\n",
       " 'directors': [{'id': 'nm2504581', 'name': 'Checco Zalone'}],\n",
       " 'genres': ['Comedy', 'Family'],\n",
       " '_id': 'tt10413566',\n",
       " 'original_title': 'Tolo Tolo'}"
      ]
     },
     "execution_count": 49,
     "metadata": {},
     "output_type": "execute_result"
    }
   ],
   "source": [
    "movies[37276]"
   ]
  },
  {
   "cell_type": "code",
   "execution_count": 53,
   "metadata": {
    "ExecuteTime": {
     "end_time": "2020-02-05T09:19:55.157483Z",
     "start_time": "2020-02-05T09:19:55.149120Z"
    }
   },
   "outputs": [],
   "source": [
    "from pymongo import MongoClient\n",
    "from pymongo import UpdateOne\n",
    "\n",
    "client = MongoClient()\n",
    "db = client['task2-test']"
   ]
  },
  {
   "cell_type": "code",
   "execution_count": 54,
   "metadata": {
    "ExecuteTime": {
     "end_time": "2020-02-05T09:19:56.362198Z",
     "start_time": "2020-02-05T09:19:56.354074Z"
    }
   },
   "outputs": [
    {
     "data": {
      "text/plain": [
       "{'_id': 'tt10413566',\n",
       " 'title': 'Tolo Tolo',\n",
       " 'originalTitle': 'Tolo Tolo',\n",
       " 'year': '2020',\n",
       " 'runtime': '90',\n",
       " 'genres': ['Comedy', 'Family'],\n",
       " 'directors': [{'id': 'nm2504581', 'name': 'Checco Zalone'}],\n",
       " 'characters': [{'actor_id': 'nm11242931',\n",
       "   'actor_name': 'Nassor Said Birya',\n",
       "   'name': 'Doudou'},\n",
       "  {'actor_id': 'nm2504581', 'actor_name': 'Checco Zalone', 'name': 'Checco'},\n",
       "  {'actor_id': 'nm6658145',\n",
       "   'actor_name': 'Souleymane Sylla',\n",
       "   'name': 'Oumar'}],\n",
       " 'original_title': 'Tolo Tolo',\n",
       " 'title_ita': 'Tolo Tolo'}"
      ]
     },
     "execution_count": 54,
     "metadata": {},
     "output_type": "execute_result"
    }
   ],
   "source": [
    "db.movies.find_one()"
   ]
  },
  {
   "cell_type": "code",
   "execution_count": 56,
   "metadata": {
    "ExecuteTime": {
     "end_time": "2020-02-05T09:22:33.336296Z",
     "start_time": "2020-02-05T09:22:29.481618Z"
    }
   },
   "outputs": [],
   "source": [
    "requests = []\n",
    "for movie in movies:\n",
    "    requests.append(UpdateOne({\"_id\": movie[\"_id\"]}, {\"$set\": movie}, upsert=True))\n",
    "\n",
    "try:\n",
    "    db.movies.bulk_write(requests, ordered=False)\n",
    "except BulkWriteError as bwe:\n",
    "    print(bwe.details)"
   ]
  },
  {
   "cell_type": "code",
   "execution_count": 57,
   "metadata": {
    "ExecuteTime": {
     "end_time": "2020-02-05T09:22:35.504827Z",
     "start_time": "2020-02-05T09:22:33.338895Z"
    }
   },
   "outputs": [],
   "source": [
    "requests = []\n",
    "for actor in actor_list:\n",
    "    requests.append(UpdateOne({\"_id\": actor[\"_id\"]}, {\"$set\": actor}, upsert=True))\n",
    "    \n",
    "try:\n",
    "    db.actors.bulk_write(requests, ordered=False)\n",
    "except BulkWriteError as bwe:\n",
    "    print(bwe.details)   "
   ]
  },
  {
   "cell_type": "code",
   "execution_count": 58,
   "metadata": {
    "ExecuteTime": {
     "end_time": "2020-02-05T09:22:36.462818Z",
     "start_time": "2020-02-05T09:22:35.506775Z"
    }
   },
   "outputs": [],
   "source": [
    "requests = []\n",
    "for director in director_list:\n",
    "    requests.append(UpdateOne({\"_id\": director[\"_id\"]}, {\"$set\": director}, upsert=True))\n",
    "\n",
    "try:\n",
    "    db.directors.bulk_write(requests, ordered=False)\n",
    "except BulkWriteError as bwe:\n",
    "    print(bwe.details)"
   ]
  },
  {
   "cell_type": "code",
   "execution_count": null,
   "metadata": {},
   "outputs": [],
   "source": []
  }
 ],
 "metadata": {
  "kernelspec": {
   "display_name": "Python 3",
   "language": "python",
   "name": "python3"
  },
  "language_info": {
   "codemirror_mode": {
    "name": "ipython",
    "version": 3
   },
   "file_extension": ".py",
   "mimetype": "text/x-python",
   "name": "python",
   "nbconvert_exporter": "python",
   "pygments_lexer": "ipython3",
   "version": "3.7.6"
  }
 },
 "nbformat": 4,
 "nbformat_minor": 2
}
