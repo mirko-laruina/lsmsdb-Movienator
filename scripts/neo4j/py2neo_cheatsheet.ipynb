{
 "cells": [
  {
   "cell_type": "code",
   "execution_count": null,
   "metadata": {
    "ExecuteTime": {
     "end_time": "2020-05-21T12:30:11.512839Z",
     "start_time": "2020-05-21T12:30:11.363806Z"
    }
   },
   "outputs": [],
   "source": [
    "from py2neo import Graph, Node "
   ]
  },
  {
   "cell_type": "code",
   "execution_count": null,
   "metadata": {
    "ExecuteTime": {
     "end_time": "2020-05-21T12:30:45.570509Z",
     "start_time": "2020-05-21T12:30:45.396614Z"
    }
   },
   "outputs": [],
   "source": [
    "# connect to graph\n",
    "graph = Graph(uri=\"localhost\", auth=(\"username\", \"password\"))"
   ]
  },
  {
   "cell_type": "code",
   "execution_count": null,
   "metadata": {
    "ExecuteTime": {
     "end_time": "2020-05-21T12:31:04.422513Z",
     "start_time": "2020-05-21T12:31:04.314381Z"
    }
   },
   "outputs": [],
   "source": [
    "# start a transaction\n",
    "tx = graph.begin()\n",
    "# all crud operations below can also be done on graph instead of tx"
   ]
  },
  {
   "cell_type": "code",
   "execution_count": null,
   "metadata": {},
   "outputs": [],
   "source": [
    "# add a new node\n",
    "# Node(label, property1=value1, property2=value2)\n",
    "n = Node(\"Person\", name=\"Alice\")\n",
    "tx.create(n) "
   ]
  },
  {
   "cell_type": "code",
   "execution_count": null,
   "metadata": {},
   "outputs": [],
   "source": [
    "# add a new node from dict\n",
    "# Node(label, **dictionary)\n",
    "person = {\"name\": \"Alice\"}\n",
    "n = Node(\"Person\", **person)\n",
    "tx.create(n) "
   ]
  },
  {
   "cell_type": "code",
   "execution_count": null,
   "metadata": {},
   "outputs": [],
   "source": [
    "# upsert node (update if exists else insert)\n",
    "# equivalence is checked on specified key(s)\n",
    "# merge(node, label, key)\n",
    "# merge(node, label, keys_list) \n",
    "tx.merge(n, \"Person\", \"name\")"
   ]
  },
  {
   "cell_type": "code",
   "execution_count": null,
   "metadata": {},
   "outputs": [],
   "source": [
    "# commit transaction\n",
    "tx.commit()"
   ]
  },
  {
   "cell_type": "code",
   "execution_count": null,
   "metadata": {},
   "outputs": [],
   "source": [
    "# abort transaction (rollback)\n",
    "tx.rollback()"
   ]
  }
 ],
 "metadata": {
  "kernelspec": {
   "display_name": "Python 3",
   "language": "python",
   "name": "python3"
  },
  "language_info": {
   "codemirror_mode": {
    "name": "ipython",
    "version": 3
   },
   "file_extension": ".py",
   "mimetype": "text/x-python",
   "name": "python",
   "nbconvert_exporter": "python",
   "pygments_lexer": "ipython3",
   "version": "3.8.2"
  }
 },
 "nbformat": 4,
 "nbformat_minor": 4
}
