{
 "cells": [
  {
   "cell_type": "code",
   "execution_count": 1,
   "metadata": {
    "ExecuteTime": {
     "end_time": "2020-05-21T12:30:11.512839Z",
     "start_time": "2020-05-21T12:30:11.363806Z"
    }
   },
   "outputs": [],
   "source": [
    "import json\n",
    "from py2neo import Graph, Node "
   ]
  },
  {
   "cell_type": "code",
   "execution_count": 2,
   "metadata": {},
   "outputs": [],
   "source": [
    "from pymongo import MongoClient"
   ]
  },
  {
   "cell_type": "code",
   "execution_count": 3,
   "metadata": {},
   "outputs": [],
   "source": [
    "# connect to Mongo\n",
    "client = MongoClient()\n",
    "db = client.prova\n",
    "movie_coll = db.movies\n",
    "user_coll = db.users\n",
    "movie_json = movie_coll.find({})\n",
    "user_json = user_coll.find({})"
   ]
  },
  {
   "cell_type": "code",
   "execution_count": 4,
   "metadata": {
    "ExecuteTime": {
     "end_time": "2020-05-21T12:30:45.570509Z",
     "start_time": "2020-05-21T12:30:45.396614Z"
    }
   },
   "outputs": [],
   "source": [
    "# connect to graph\n",
    "graph = Graph(uri=\"bolt://localhost:7687\", auth=(\"neo4j\", \"qazqaz\"))"
   ]
  },
  {
   "cell_type": "code",
   "execution_count": 5,
   "metadata": {
    "ExecuteTime": {
     "end_time": "2020-05-21T12:31:04.422513Z",
     "start_time": "2020-05-21T12:31:04.314381Z"
    }
   },
   "outputs": [],
   "source": [
    "# start a transaction\n",
    "tx = graph.begin()\n",
    "# all crud operations below can also be done on graph instead of tx"
   ]
  },
  {
   "cell_type": "code",
   "execution_count": 6,
   "metadata": {},
   "outputs": [],
   "source": [
    "# open movie's json\n",
    "with open('movies.json') as movies:\n",
    "    movie_json = json.load(movies)"
   ]
  },
  {
   "cell_type": "code",
   "execution_count": 7,
   "metadata": {},
   "outputs": [],
   "source": [
    "# renamings\n",
    "for movie in movie_json:\n",
    "    if \"tid\" in movie:\n",
    "        movie[\"_id\"] = movie[\"tid\"]\n",
    "        del movie[\"tid\"]\n",
    "    \n",
    "    if \"originaltitle\" in movie:\n",
    "        movie[\"original_title\"] = movie[\"originaltitle\"]\n",
    "        del movie[\"originaltitle\"]"
   ]
  },
  {
   "cell_type": "code",
   "execution_count": 8,
   "metadata": {},
   "outputs": [],
   "source": [
    "# fix missing titles\n",
    "for movie in movie_json:\n",
    "    if movie[\"title\"] is None:\n",
    "        if movie[\"original_title\"] is None:\n",
    "            if movie[\"title_ita\"] is None:\n",
    "                print(movie[\"_id\"])\n",
    "            movie[\"title\"] = movie[\"title_ita\"]\n",
    "        movie[\"title\"] = movie[\"original_title\"]"
   ]
  },
  {
   "cell_type": "code",
   "execution_count": 9,
   "metadata": {},
   "outputs": [],
   "source": [
    "for x in movie_json:\n",
    "    movie = {\"id\": x[\"_id\"], \"title\": x[\"title\"], \"year\": x[\"year\"]}\n",
    "    n = Node(\"Movie\", **movie)\n",
    "    #tx.create(n) \n",
    "    tx.merge(n, \"Movie\", \"id\")"
   ]
  },
  {
   "cell_type": "code",
   "execution_count": 10,
   "metadata": {},
   "outputs": [],
   "source": [
    "# commit transaction\n",
    "tx.commit()"
   ]
  },
  {
   "cell_type": "code",
   "execution_count": 11,
   "metadata": {},
   "outputs": [],
   "source": [
    "# start a transaction\n",
    "tx = graph.begin()\n",
    "# all crud operations below can also be done on graph instead of tx"
   ]
  },
  {
   "cell_type": "code",
   "execution_count": 12,
   "metadata": {},
   "outputs": [],
   "source": [
    "# open users's json\n",
    "with open('users.json') as users:\n",
    "    user_json = json.load(users)"
   ]
  },
  {
   "cell_type": "code",
   "execution_count": 13,
   "metadata": {},
   "outputs": [],
   "source": [
    "# add a new node from dict\n",
    "# Node(label, **dictionary)\n",
    "for x in user_json:\n",
    "    user = {\"username\": x[\"username\"]}\n",
    "    m = Node(\"User\", **user)\n",
    "    #m.__primarylabel__ = \"User\"\n",
    "    #m.__primarykey__ = \"username\"\n",
    "    #tx.create(m)\n",
    "    tx.merge(m, \"User\", \"username\")"
   ]
  },
  {
   "cell_type": "code",
   "execution_count": 14,
   "metadata": {},
   "outputs": [],
   "source": [
    "# commit transaction\n",
    "tx.commit()"
   ]
  }
 ],
 "metadata": {
  "kernelspec": {
   "display_name": "Python 3",
   "language": "python",
   "name": "python3"
  },
  "language_info": {
   "codemirror_mode": {
    "name": "ipython",
    "version": 3
   },
   "file_extension": ".py",
   "mimetype": "text/x-python",
   "name": "python",
   "nbconvert_exporter": "python",
   "pygments_lexer": "ipython3",
   "version": "3.7.6"
  }
 },
 "nbformat": 4,
 "nbformat_minor": 4
}
