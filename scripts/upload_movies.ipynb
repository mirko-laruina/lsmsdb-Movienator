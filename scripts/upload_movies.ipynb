{
 "cells": [
  {
   "cell_type": "code",
   "execution_count": 1,
   "metadata": {
    "ExecuteTime": {
     "end_time": "2020-02-10T16:04:04.866014Z",
     "start_time": "2020-02-10T16:04:04.710051Z"
    }
   },
   "outputs": [],
   "source": [
    "import numpy as np\n",
    "import json\n",
    "from config import parse_dataset_output, mongo_uri, mongo_db"
   ]
  },
  {
   "cell_type": "code",
   "execution_count": 2,
   "metadata": {
    "ExecuteTime": {
     "end_time": "2020-02-10T16:04:05.514520Z",
     "start_time": "2020-02-10T16:04:04.985396Z"
    }
   },
   "outputs": [],
   "source": [
    "with open(parse_dataset_output) as json_file:\n",
    "    movies = json.load(json_file)\n",
    "    "
   ]
  },
  {
   "cell_type": "code",
   "execution_count": 3,
   "metadata": {
    "ExecuteTime": {
     "end_time": "2020-02-10T16:04:06.909731Z",
     "start_time": "2020-02-10T16:04:06.904154Z"
    }
   },
   "outputs": [
    {
     "name": "stdout",
     "output_type": "stream",
     "text": [
      "dict_keys(['tid', 'title_ita', 'title', 'originaltitle', 'runtime', 'year', 'characters', 'directors', 'genres'])\n"
     ]
    }
   ],
   "source": [
    "print(movies[0].keys())"
   ]
  },
  {
   "cell_type": "code",
   "execution_count": 5,
   "metadata": {
    "ExecuteTime": {
     "end_time": "2020-02-10T16:04:21.328051Z",
     "start_time": "2020-02-10T16:04:21.085067Z"
    }
   },
   "outputs": [],
   "source": [
    "# directors\n",
    "all_directors = {}\n",
    "for movie in movies:\n",
    "    directors = []\n",
    "    if movie['directors'] is None:\n",
    "        movie['directors'] = []\n",
    "        continue\n",
    "    for d in movie['directors']:\n",
    "        if d[0] is None:\n",
    "            continue\n",
    "        director = {'id': d[0], 'name': d[1]}\n",
    "        directors.append(director)\n",
    "        all_directors[d[0]] = d[1]\n",
    "    movie['directors'] = directors\n",
    "director_list = [{\"_id\": did, \"name\": all_directors[did]} for did in all_directors]"
   ]
  },
  {
   "cell_type": "code",
   "execution_count": 6,
   "metadata": {
    "ExecuteTime": {
     "end_time": "2020-02-10T16:04:21.603661Z",
     "start_time": "2020-02-10T16:04:21.394229Z"
    }
   },
   "outputs": [],
   "source": [
    "# characters\n",
    "all_actors = {}\n",
    "for movie in movies:\n",
    "    characters = []\n",
    "    if movie['characters'] is None:\n",
    "        movie['characters'] = []\n",
    "        continue\n",
    "    for c in movie['characters']:\n",
    "        if c[2] is None :\n",
    "            continue\n",
    "        character = {'actor_id': c[2], 'actor_name': c[1], 'name': c[0]}\n",
    "        characters.append(character)\n",
    "        all_actors[c[2]] = c[1]\n",
    "    movie['characters'] = characters\n",
    "actor_list = [{\"_id\": aid, \"name\": all_actors[aid]} for aid in all_actors]"
   ]
  },
  {
   "cell_type": "code",
   "execution_count": 7,
   "metadata": {
    "ExecuteTime": {
     "end_time": "2020-02-10T16:04:21.907355Z",
     "start_time": "2020-02-10T16:04:21.701703Z"
    }
   },
   "outputs": [],
   "source": [
    "all_genres = set()\n",
    "# genres\n",
    "for movie in movies:\n",
    "    if movie['genres'] is None:\n",
    "        movie['genres'] = []\n",
    "        continue\n",
    "    genres = movie['genres'].split(',')\n",
    "    movie['genres'] = genres\n",
    "    for genre in genres:\n",
    "        all_genres.add(genre)\n",
    "genre_list = list(all_genres)"
   ]
  },
  {
   "cell_type": "code",
   "execution_count": 8,
   "metadata": {
    "ExecuteTime": {
     "end_time": "2020-02-10T16:04:22.043973Z",
     "start_time": "2020-02-10T16:04:21.981764Z"
    }
   },
   "outputs": [],
   "source": [
    "all_years = set()\n",
    "# years\n",
    "for movie in movies:\n",
    "    if movie['year'] is None:\n",
    "        continue\n",
    "    year = int(movie['year'])\n",
    "    movie['year'] = year\n",
    "    all_years.add(year)\n",
    "year_list = list(all_years)"
   ]
  },
  {
   "cell_type": "code",
   "execution_count": 9,
   "metadata": {
    "ExecuteTime": {
     "end_time": "2020-02-10T16:04:22.479660Z",
     "start_time": "2020-02-10T16:04:22.406805Z"
    }
   },
   "outputs": [],
   "source": [
    "# renamings\n",
    "for movie in movies:\n",
    "    if \"tid\" in movie:\n",
    "        movie[\"_id\"] = movie[\"tid\"]\n",
    "        del movie[\"tid\"]\n",
    "    \n",
    "    if \"originaltitle\" in movie:\n",
    "        movie[\"original_title\"] = movie[\"originaltitle\"]\n",
    "        del movie[\"originaltitle\"]"
   ]
  },
  {
   "cell_type": "code",
   "execution_count": 12,
   "metadata": {
    "ExecuteTime": {
     "end_time": "2020-02-10T16:05:23.162570Z",
     "start_time": "2020-02-10T16:05:23.133688Z"
    }
   },
   "outputs": [],
   "source": [
    "# fix missing titles\n",
    "for movie in movies:\n",
    "    if movie[\"title\"] is None:\n",
    "        if movie[\"original_title\"] is None:\n",
    "            print(movie[\"_id\"])\n",
    "        movie[\"title\"] = movie[\"original_title\"]"
   ]
  },
  {
   "cell_type": "code",
   "execution_count": 13,
   "metadata": {
    "ExecuteTime": {
     "end_time": "2020-02-10T16:05:35.822353Z",
     "start_time": "2020-02-10T16:05:35.782263Z"
    }
   },
   "outputs": [],
   "source": [
    "from pymongo import MongoClient\n",
    "from pymongo import UpdateOne\n",
    "\n",
    "client = MongoClient(mongo_uri)\n",
    "db = client[mongo_db]"
   ]
  },
  {
   "cell_type": "code",
   "execution_count": 14,
   "metadata": {
    "ExecuteTime": {
     "end_time": "2020-02-10T16:05:41.723392Z",
     "start_time": "2020-02-10T16:05:36.104190Z"
    }
   },
   "outputs": [],
   "source": [
    "requests = []\n",
    "for movie in movies:\n",
    "    requests.append(UpdateOne({\"_id\": movie[\"_id\"]}, {\"$set\": movie}, upsert=True))\n",
    "\n",
    "try:\n",
    "    db.movies.bulk_write(requests, ordered=False)\n",
    "except BulkWriteError as bwe:\n",
    "    print(bwe.details)"
   ]
  },
  {
   "cell_type": "code",
   "execution_count": 23,
   "metadata": {
    "ExecuteTime": {
     "end_time": "2020-02-07T09:46:27.649477Z",
     "start_time": "2020-02-07T09:46:24.074575Z"
    }
   },
   "outputs": [],
   "source": [
    "requests = []\n",
    "for actor in actor_list:\n",
    "    requests.append(UpdateOne({\"_id\": actor[\"_id\"]}, {\"$set\": actor}, upsert=True))\n",
    "    \n",
    "try:\n",
    "    db.actors.bulk_write(requests, ordered=False)\n",
    "except BulkWriteError as bwe:\n",
    "    print(bwe.details)   "
   ]
  },
  {
   "cell_type": "code",
   "execution_count": 24,
   "metadata": {
    "ExecuteTime": {
     "end_time": "2020-02-07T09:46:29.919296Z",
     "start_time": "2020-02-07T09:46:27.651476Z"
    }
   },
   "outputs": [],
   "source": [
    "requests = []\n",
    "for director in director_list:\n",
    "    requests.append(UpdateOne({\"_id\": director[\"_id\"]}, {\"$set\": director}, upsert=True))\n",
    "\n",
    "try:\n",
    "    db.directors.bulk_write(requests, ordered=False)\n",
    "except BulkWriteError as bwe:\n",
    "    print(bwe.details)"
   ]
  },
  {
   "cell_type": "code",
   "execution_count": null,
   "metadata": {},
   "outputs": [],
   "source": []
  }
 ],
 "metadata": {
  "kernelspec": {
   "display_name": "Python 3",
   "language": "python",
   "name": "python3"
  },
  "language_info": {
   "codemirror_mode": {
    "name": "ipython",
    "version": 3
   },
   "file_extension": ".py",
   "mimetype": "text/x-python",
   "name": "python",
   "nbconvert_exporter": "python",
   "pygments_lexer": "ipython3",
   "version": "3.7.6"
  }
 },
 "nbformat": 4,
 "nbformat_minor": 2
}
