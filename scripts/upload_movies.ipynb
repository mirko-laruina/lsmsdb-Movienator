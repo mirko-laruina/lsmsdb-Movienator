{
 "cells": [
  {
   "cell_type": "code",
   "execution_count": 1,
   "metadata": {
    "ExecuteTime": {
     "end_time": "2020-02-05T10:42:27.287357Z",
     "start_time": "2020-02-05T10:42:27.114988Z"
    }
   },
   "outputs": [],
   "source": [
    "import numpy as np\n",
    "import json\n",
    "from config import parse_dataset_output, mongo_uri, mongo_db"
   ]
  },
  {
   "cell_type": "code",
   "execution_count": 2,
   "metadata": {
    "ExecuteTime": {
     "end_time": "2020-02-05T10:42:27.768067Z",
     "start_time": "2020-02-05T10:42:27.291187Z"
    }
   },
   "outputs": [],
   "source": [
    "with open(parse_dataset_output) as json_file:\n",
    "    movies = json.load(json_file)\n",
    "    "
   ]
  },
  {
   "cell_type": "code",
   "execution_count": 3,
   "metadata": {
    "ExecuteTime": {
     "end_time": "2020-02-05T10:42:27.773514Z",
     "start_time": "2020-02-05T10:42:27.769824Z"
    }
   },
   "outputs": [
    {
     "name": "stdout",
     "output_type": "stream",
     "text": [
      "dict_keys(['tid', 'title_ita', 'title', 'originaltitle', 'runtime', 'year', 'characters', 'directors', 'genres'])\n"
     ]
    }
   ],
   "source": [
    "print(movies[0].keys())"
   ]
  },
  {
   "cell_type": "code",
   "execution_count": 4,
   "metadata": {
    "ExecuteTime": {
     "end_time": "2020-02-05T10:42:28.005253Z",
     "start_time": "2020-02-05T10:42:27.777465Z"
    }
   },
   "outputs": [],
   "source": [
    "# directors\n",
    "all_directors = {}\n",
    "for movie in movies:\n",
    "    directors = []\n",
    "    if movie['directors'] is None:\n",
    "        movie['directors'] = []\n",
    "        continue\n",
    "    for d in movie['directors']:\n",
    "        if d[0] is None:\n",
    "            continue\n",
    "        director = {'id': d[0], 'name': d[1]}\n",
    "        directors.append(director)\n",
    "        all_directors[d[0]] = d[1]\n",
    "    movie['directors'] = directors\n",
    "director_list = [{\"_id\": did, \"name\": all_directors[did]} for did in all_directors]"
   ]
  },
  {
   "cell_type": "code",
   "execution_count": 5,
   "metadata": {
    "ExecuteTime": {
     "end_time": "2020-02-05T10:42:28.203828Z",
     "start_time": "2020-02-05T10:42:28.007792Z"
    }
   },
   "outputs": [],
   "source": [
    "# characters\n",
    "all_actors = {}\n",
    "for movie in movies:\n",
    "    characters = []\n",
    "    if movie['characters'] is None:\n",
    "        movie['characters'] = []\n",
    "        continue\n",
    "    for c in movie['characters']:\n",
    "        if c[2] is None :\n",
    "            continue\n",
    "        character = {'actor_id': c[2], 'actor_name': c[1], 'name': c[0]}\n",
    "        characters.append(character)\n",
    "        all_actors[c[2]] = c[1]\n",
    "    movie['characters'] = characters\n",
    "actor_list = [{\"_id\": aid, \"name\": all_actors[aid]} for aid in all_actors]"
   ]
  },
  {
   "cell_type": "code",
   "execution_count": 6,
   "metadata": {
    "ExecuteTime": {
     "end_time": "2020-02-05T10:42:28.361257Z",
     "start_time": "2020-02-05T10:42:28.205501Z"
    }
   },
   "outputs": [],
   "source": [
    "# genres\n",
    "for movie in movies:\n",
    "    characters = []\n",
    "    if movie['genres'] is None:\n",
    "        movie['genres'] = []\n",
    "        continue\n",
    "    movie['genres'] = movie['genres'].split(',')"
   ]
  },
  {
   "cell_type": "code",
   "execution_count": 7,
   "metadata": {
    "ExecuteTime": {
     "end_time": "2020-02-05T10:42:28.416553Z",
     "start_time": "2020-02-05T10:42:28.363438Z"
    }
   },
   "outputs": [],
   "source": [
    "# renamings\n",
    "for movie in movies:\n",
    "    if \"tid\" in movie:\n",
    "        movie[\"_id\"] = movie[\"tid\"]\n",
    "        del movie[\"tid\"]\n",
    "    \n",
    "    if \"originaltitle\" in movie:\n",
    "        movie[\"original_title\"] = movie[\"originaltitle\"]\n",
    "        del movie[\"originaltitle\"]"
   ]
  },
  {
   "cell_type": "code",
   "execution_count": 8,
   "metadata": {
    "ExecuteTime": {
     "end_time": "2020-02-05T10:42:28.428489Z",
     "start_time": "2020-02-05T10:42:28.418872Z"
    }
   },
   "outputs": [
    {
     "data": {
      "text/plain": [
       "{'title_ita': 'Tolo Tolo',\n",
       " 'title': 'Tolo Tolo',\n",
       " 'runtime': '90',\n",
       " 'year': '2020',\n",
       " 'characters': [{'actor_id': 'nm11242931',\n",
       "   'actor_name': 'Nassor Said Birya',\n",
       "   'name': 'Doudou'},\n",
       "  {'actor_id': 'nm2504581', 'actor_name': 'Checco Zalone', 'name': 'Checco'},\n",
       "  {'actor_id': 'nm6658145',\n",
       "   'actor_name': 'Souleymane Sylla',\n",
       "   'name': 'Oumar'}],\n",
       " 'directors': [{'id': 'nm2504581', 'name': 'Checco Zalone'}],\n",
       " 'genres': ['Comedy', 'Family'],\n",
       " '_id': 'tt10413566',\n",
       " 'original_title': 'Tolo Tolo'}"
      ]
     },
     "execution_count": 8,
     "metadata": {},
     "output_type": "execute_result"
    }
   ],
   "source": [
    "movies[37276]"
   ]
  },
  {
   "cell_type": "code",
   "execution_count": 9,
   "metadata": {
    "ExecuteTime": {
     "end_time": "2020-02-05T10:42:28.471397Z",
     "start_time": "2020-02-05T10:42:28.430553Z"
    }
   },
   "outputs": [],
   "source": [
    "from pymongo import MongoClient\n",
    "from pymongo import UpdateOne\n",
    "\n",
    "client = MongoClient(mongo_uri)\n",
    "db = client[mongo_db]"
   ]
  },
  {
   "cell_type": "code",
   "execution_count": 10,
   "metadata": {
    "ExecuteTime": {
     "end_time": "2020-02-05T10:42:32.488662Z",
     "start_time": "2020-02-05T10:42:28.473011Z"
    }
   },
   "outputs": [],
   "source": [
    "requests = []\n",
    "for movie in movies:\n",
    "    requests.append(UpdateOne({\"_id\": movie[\"_id\"]}, {\"$set\": movie}, upsert=True))\n",
    "\n",
    "try:\n",
    "    db.movies.bulk_write(requests, ordered=False)\n",
    "except BulkWriteError as bwe:\n",
    "    print(bwe.details)"
   ]
  },
  {
   "cell_type": "code",
   "execution_count": 11,
   "metadata": {
    "ExecuteTime": {
     "end_time": "2020-02-05T10:42:34.645870Z",
     "start_time": "2020-02-05T10:42:32.490282Z"
    }
   },
   "outputs": [],
   "source": [
    "requests = []\n",
    "for actor in actor_list:\n",
    "    requests.append(UpdateOne({\"_id\": actor[\"_id\"]}, {\"$set\": actor}, upsert=True))\n",
    "    \n",
    "try:\n",
    "    db.actors.bulk_write(requests, ordered=False)\n",
    "except BulkWriteError as bwe:\n",
    "    print(bwe.details)   "
   ]
  },
  {
   "cell_type": "code",
   "execution_count": 12,
   "metadata": {
    "ExecuteTime": {
     "end_time": "2020-02-05T10:42:35.653830Z",
     "start_time": "2020-02-05T10:42:34.647375Z"
    }
   },
   "outputs": [],
   "source": [
    "requests = []\n",
    "for director in director_list:\n",
    "    requests.append(UpdateOne({\"_id\": director[\"_id\"]}, {\"$set\": director}, upsert=True))\n",
    "\n",
    "try:\n",
    "    db.directors.bulk_write(requests, ordered=False)\n",
    "except BulkWriteError as bwe:\n",
    "    print(bwe.details)"
   ]
  },
  {
   "cell_type": "code",
   "execution_count": null,
   "metadata": {},
   "outputs": [],
   "source": []
  }
 ],
 "metadata": {
  "kernelspec": {
   "display_name": "Python 3",
   "language": "python",
   "name": "python3"
  },
  "language_info": {
   "codemirror_mode": {
    "name": "ipython",
    "version": 3
   },
   "file_extension": ".py",
   "mimetype": "text/x-python",
   "name": "python",
   "nbconvert_exporter": "python",
   "pygments_lexer": "ipython3",
   "version": "3.7.6"
  }
 },
 "nbformat": 4,
 "nbformat_minor": 2
}
